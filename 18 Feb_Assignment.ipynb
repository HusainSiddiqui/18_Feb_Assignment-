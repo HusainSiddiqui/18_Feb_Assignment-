{
 "cells": [
  {
   "cell_type": "markdown",
   "metadata": {},
   "source": [
    "**Q1. What is an API? Give an example, where an API is used in real life.**"
   ]
  },
  {
   "cell_type": "markdown",
   "metadata": {},
   "source": [
    "**API** stands for Application Programming Interface.\n",
    "\n",
    "APIs are mechanisms that enable two software components to communicate with each other using a set of definitions and protocols.\n",
    "\n",
    "**For example:**\n",
    "\n",
    "    The weather bureau’s software system contains daily weather data. \n",
    "    The weather app on your phone “talks” to this system via APIs and shows you daily weather updates on your phone.\n",
    "***"
   ]
  },
  {
   "cell_type": "markdown",
   "metadata": {},
   "source": [
    "**Q2. Give advantages and disadvantages of using API.**"
   ]
  },
  {
   "cell_type": "markdown",
   "metadata": {},
   "source": [
    "**Advantages**\n",
    "\n",
    "**1. Automation**\n",
    "\n",
    "    New content and information can be published and shared with your entire audience quickly and efficiently across all \n",
    "    channels. \n",
    "    \n",
    "\n",
    "**2. Developer efficiency and innovation**\n",
    "\n",
    "    APIs empower developers, don’t need to be develop  API start from scratch.Reuse other developers' applications.\n",
    "    \n",
    "    \n",
    "**3. Improved value proposition**\n",
    "\n",
    "    An application can integrate those services into their own systems to make themselves more attractive to customers.\n",
    "***"
   ]
  },
  {
   "cell_type": "markdown",
   "metadata": {},
   "source": [
    "**Disadvantages**\n",
    "\n",
    "**1. Cost**\n",
    "\n",
    "    Implementing and providing API capabilities can be costly in terms of development times, ongoing maintenance requirements, and providing support.\n",
    "\n",
    "\n",
    "**2. Upgrad**\n",
    "\n",
    "      Scaling API requires extensive programming knowledge and the learning curve can fairly steep when understanding how to extend the capabilities of your API framework.\n",
    "\n",
    "\n",
    "**3. Security**\n",
    "\n",
    "    Security can be a concern as APIs add another potential attack layer to programs/websites.\n",
    "***"
   ]
  },
  {
   "cell_type": "markdown",
   "metadata": {},
   "source": [
    "Q3. What is a Web API? Differentiate between API and Web API."
   ]
  },
  {
   "cell_type": "markdown",
   "metadata": {},
   "source": [
    "Web API is an API as the name suggests, it can be accessed over the web using the HTTP protocol. \n",
    "\n",
    "It is a framework that helps you to create and develop HTTP based RESTFUL services. \n",
    "\n",
    "The web API can be developed by using different technologies such as java, ASP.NET, etc. \n",
    "\n",
    "Web API is used in either a web server or a web browser. Basically Web API is a web development concept. \n",
    "\n",
    "It is limited to Web Application’s client-side and also it does not include a web server or web browser details. \n",
    "\n",
    "If an application is to be used on a distributed system and to provide services on different devices like \n",
    "laptops, mobiles, etc then web API services are used. \n",
    "\n",
    "Web API is the enhanced form of the web application.\n",
    "***"
   ]
  },
  {
   "cell_type": "markdown",
   "metadata": {},
   "source": [
    "|                 API                                     |                            Web API                             |\n",
    "|---------------------------------------------------------|----------------------------------------------------------------|\n",
    "|An API is a component of an application through which the|When an application offers a service to clients over the        |\n",
    "|application provides a service to other applications.    |Internet,the service is known as a ‘Web service’.               |\n",
    "|                                                         |An API of such a service is known as a Web API.                 |\n",
    "***"
   ]
  },
  {
   "cell_type": "markdown",
   "metadata": {},
   "source": [
    "Q4. Explain REST and SOAP Architecture. Mention shortcomings of SOAP."
   ]
  },
  {
   "cell_type": "markdown",
   "metadata": {},
   "source": [
    "REST stands for REpresentational State Transfer.\n",
    "\n",
    "REST is web standards based architecture and uses HTTP Protocol. \n",
    "\n",
    "It revolves around resource where every component is a resource and a resource is accessed by a common interface using HTTP standard methods.\n",
    "\n",
    "The standard HTTP methods are GET, POST, PUT, and DELETE.\n",
    "***"
   ]
  },
  {
   "cell_type": "markdown",
   "metadata": {},
   "source": [
    "SOAP is an acronym for Simple Object Access Protocol\n",
    "\n",
    "SOAP is an XML-based messaging protocol for exchanging information among computers.\n",
    "\n",
    "SOAP is a communication protocol designed to communicate via Internet.\n",
    "\n",
    "SOAP can extend HTTP for XML messaging.\n",
    "\n",
    "SOAP provides data transport for Web services.\n",
    "\n",
    "SOAP can exchange complete documents or call a remote procedure.\n",
    "\n",
    "SOAP can be used for broadcasting a message.\n",
    "\n",
    "SOAP is platform- and language-independent.\n",
    "\n",
    "SOAP is the XML way of defining what information is sent and how.\n",
    "\n",
    "SOAP enables client applications to easily connect to remote services and invoke remote methods.\n",
    "***"
   ]
  },
  {
   "cell_type": "markdown",
   "metadata": {},
   "source": [
    "Q5. Differentiate between REST and SOAP."
   ]
  },
  {
   "cell_type": "markdown",
   "metadata": {},
   "source": [
    "| SOAP stands for Simple Object Access Protocol           | REST stands for Representational State Transfer.               |\n",
    "|:-:-:-:-:-:-:-:-:-:-:-:-:--:-:-:-:-:--:-:-:-:-:-:-:-:-:-:|:-:-:-:-:-:-:-:-:-:--:-:-:-:-:--:-:-:-:-:-:-:-:-:-:-:-:-:-:-:-:-|\n",
    "| SOAP is a protocol                                      | REST is an architectural pattern                               |\n",
    "|:-:-:-:-:-:-:-:-:-:--:-:-:-:-:--:-:-:-:-:-:-:-:-:-:-:-:-:|:-:-:-:-:-:-:-:-:-:-:-:-:-:-:-:-:-:-:-:-:--:-:-:-:-:--:-:-:-:-:-|\n",
    "| SOAP uses service interfaces to expose its functionality to client applications |REST uses Uniform Service locators to access to the components on the hardware device.|\n",
    "|:-:-:-:-:-:-:-:-:-:-:-:-:-:-:-:-:--:-:-:-:-:--:-:-:-:-:-:|:-:-:-:-:-:-:-:-:-:-:-:-:-:-:-:-:-:-:-:-:--:-:-:-:-:--:-:-:-:-:-|\n",
    "| SOAP needs more bandwidth for its usage                 | REST doesn’t need much bandwidth.                              |\n",
    "|:-:-:-:-:-:-:-:-:-:-:-:-:-:--:-:-:-:-:--:-:-:-:-:-:-:-:-:|:-:-:-:-:-:-:-:-:-:-:-:-:-:-:-:-:-:-:-:-:-:--:-:-:-:-:--:-:-:-:-|\n",
    "| Comparing SOAP vs REST API, SOAP only works with XML formats| REST work with plain text, XML, HTML and JSON              |\n",
    "|:-:-:-:-:-:-:-:-:-:-:-:-:-:-:--:-:-:-:-:--:-:-:-:-:-:-:-:|:-:-:-:-:-:-:-:-:-:-:-:-:-:-:-:-:-:-:-:--:-:-:-:-:--:-:-:-:-:-:-|\n",
    "| SOAP cannot make use of REST                            |  REST can make use of SOAP                                     |\n",
    "***"
   ]
  }
 ],
 "metadata": {
  "kernelspec": {
   "display_name": "Python 3",
   "language": "python",
   "name": "python3"
  },
  "language_info": {
   "codemirror_mode": {
    "name": "ipython",
    "version": 3
   },
   "file_extension": ".py",
   "mimetype": "text/x-python",
   "name": "python",
   "nbconvert_exporter": "python",
   "pygments_lexer": "ipython3",
   "version": "3.6.5"
  }
 },
 "nbformat": 4,
 "nbformat_minor": 2
}
